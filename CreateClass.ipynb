{
 "cells": [
  {
   "cell_type": "code",
   "execution_count": 43,
   "id": "0ad107b6",
   "metadata": {},
   "outputs": [],
   "source": [
    "import requests"
   ]
  },
  {
   "cell_type": "markdown",
   "id": "457cf2d2",
   "metadata": {},
   "source": [
    "## Задание 1\n",
    "Напишите функцию, которая возвращает название валюты (поле ‘Name’) с максимальным значением курса с помощью сервиса www.cbr-xml-daily.ru...ly_json.js"
   ]
  },
  {
   "cell_type": "code",
   "execution_count": 44,
   "id": "1678240b",
   "metadata": {},
   "outputs": [],
   "source": [
    "def get_max_value_currency():\n",
    "    data = requests.get('https://www.cbr-xml-daily.ru/daily_json.js').json()\n",
    "    max_value_currency = {}\n",
    "    for currency in data['Valute'].keys():\n",
    "        if data['Valute'][currency]['Value'] > data['Valute'][currency]['Previous']:\n",
    "            max_value_currency[data['Valute'][currency]['Name']] = data['Valute'][currency]['Value']\n",
    "        else:\n",
    "            max_value_currency[data['Valute'][currency]['Name']] = data['Valute'][currency]['Previous']\n",
    "    return max_value_currency"
   ]
  },
  {
   "cell_type": "markdown",
   "id": "21d4f621",
   "metadata": {},
   "source": [
    "## Задание 2\n",
    "Добавьте в класс Rate параметр diff (со значениями True или False), который в случае значения True в методах курсов валют (eur, usd итд) будет возвращать не курс валюты, а изменение по сравнению в прошлым значением. Считайте, self.diff будет принимать значение True только при возврате значения курса. При отображении всей информации о валюте он не используется."
   ]
  },
  {
   "cell_type": "code",
   "execution_count": 45,
   "id": "1c92f71e",
   "metadata": {},
   "outputs": [],
   "source": [
    "class Rate:\n",
    "    def __init__(self, diff=False):\n",
    "        self.diff = diff\n",
    "        \n",
    "    def get_previous_or_value_currency(self):\n",
    "        \"\"\"Возвращает прошлое значение или полную информацию о валюте\"\"\"\n",
    "        \n",
    "        json_data = requests.get('https://www.cbr-xml-daily.ru/daily_json.js').json()\n",
    "        data = {}\n",
    "        \n",
    "        if self.diff == True:\n",
    "            # Добавление прошлого значения в словарь\n",
    "            for currency in json_data['Valute'].keys():\n",
    "                data[json_data['Valute'][currency]['Name']] = json_data['Valute'][currency]['Previous']\n",
    "        else:\n",
    "            # Добавление полной информации о валюте в словарь\n",
    "            for currency in json_data['Valute'].keys():\n",
    "                data[json_data['Valute'][currency]['Name']] = json_data['Valute'][currency]\n",
    "        return data"
   ]
  },
  {
   "cell_type": "markdown",
   "id": "b1f70c4c",
   "metadata": {},
   "source": [
    "## Задание 3\n",
    "Напишите класс Designer, который учитывает количество международных премий. Подсказки в коде занятия в разделе “Домашнее задание задача 3”.\n",
    "### Комментарий по классу Designer такой:\n",
    "Напишите класс Designer, который учитывает количество международных премий для дизайнеров \n",
    "\n",
    "(из презентации: “Повышение на 1 грейд за каждые 7 баллов. Получение международной премии – это +2 балла”). \n",
    "\n",
    "Считайте, что при выходе на работу сотрудник уже имеет две премии и их количество не меняется со стажем (конечно если хотите это можно вручную менять)."
   ]
  },
  {
   "cell_type": "code",
   "execution_count": 46,
   "id": "00231ecc",
   "metadata": {},
   "outputs": [],
   "source": [
    "class Designer:\n",
    "    def __init__(self, name, seniority):\n",
    "        self.name = name\n",
    "        self.seniority = 4 # При выходе на работу сотрудник уже имеет две премии\n",
    "    \n",
    "        self.grade = 1\n",
    "        \n",
    "    def grade_up(self):\n",
    "        \"\"\"Повышает уровень сотрудника\"\"\"\n",
    "        self.grade += 1\n",
    "    \n",
    "    def receving_international_award(self):\n",
    "        \"\"\"Повышает уровень на 2, если сотрудник получил премию\"\"\"\n",
    "        self.seniority += 2\n",
    "        \n",
    "    def publish_grade(self):\n",
    "        \"\"\"Публикация результатов аккредитации сотрудников\"\"\"\n",
    "        print(self.name, self.grade)\n",
    "        \n",
    "    def check_if_it_is_time_for_upgrade(self):\n",
    "        self.seniority += 1\n",
    "        if self.seniority % 7 == 0:\n",
    "            self.grade_up()\n",
    "        return self.publish_grade()"
   ]
  },
  {
   "cell_type": "code",
   "execution_count": null,
   "id": "087a41c7",
   "metadata": {},
   "outputs": [],
   "source": []
  }
 ],
 "metadata": {
  "kernelspec": {
   "display_name": "Python 3 (ipykernel)",
   "language": "python",
   "name": "python3"
  },
  "language_info": {
   "codemirror_mode": {
    "name": "ipython",
    "version": 3
   },
   "file_extension": ".py",
   "mimetype": "text/x-python",
   "name": "python",
   "nbconvert_exporter": "python",
   "pygments_lexer": "ipython3",
   "version": "3.10.5"
  }
 },
 "nbformat": 4,
 "nbformat_minor": 5
}
