{
 "cells": [
  {
   "cell_type": "code",
   "execution_count": 1,
   "id": "25144468",
   "metadata": {},
   "outputs": [],
   "source": [
    "from datetime import datetime, timedelta"
   ]
  },
  {
   "cell_type": "markdown",
   "id": "ef96b4b3",
   "metadata": {},
   "source": [
    "## Задание 1\n",
    "Печатные газеты использовали свой формат дат для каждого выпуска. \n",
    "\n",
    "Для каждой газеты из списка напишите формат указанной даты для перевода в объект datetime:\n",
    "\n",
    "\n",
    "The Moscow Times — Wednesday, October 2, 2002\n",
    "\n",
    "The Guardian — Friday, 11.10.13\n",
    "\n",
    "Daily News — Thursday, 18 August 1977"
   ]
  },
  {
   "cell_type": "code",
   "execution_count": 2,
   "id": "67833c32",
   "metadata": {},
   "outputs": [],
   "source": [
    "the_moscow_times_date  = datetime.strptime('Wednesday, October 2, 2002', '%A, %B %w, %Y')\n",
    "the_guardian_date = datetime.strptime('Friday, 11.10.13', '%A, %d.%m.%y')\n",
    "daily_news_date = datetime.strptime('Thursday, 18 August 1977', '%A, %d %B %Y')"
   ]
  },
  {
   "cell_type": "markdown",
   "id": "6c2cba13",
   "metadata": {},
   "source": [
    "## Задание 2\n",
    "Дан поток дат в формате YYYY-MM-DD, в которых встречаются некорректные значения:\n",
    "\n",
    "stream = [‘2018-04-02’, ‘2018-02-29’, ‘2018-19-02’]\n",
    "\n",
    "Напишите функцию, которая проверяет эти даты на корректность. \n",
    "\n",
    "То есть для каждой даты возвращает True — дата корректна или False — некорректная."
   ]
  },
  {
   "cell_type": "code",
   "execution_count": 3,
   "id": "63760675",
   "metadata": {},
   "outputs": [],
   "source": [
    "stream = ['2018-04-02', '2018-02-29', '2018-19-02']"
   ]
  },
  {
   "cell_type": "code",
   "execution_count": 4,
   "id": "b5434405",
   "metadata": {},
   "outputs": [],
   "source": [
    "def is_correct_date(date_list):\n",
    "    bool_date_list = []\n",
    "    for date in date_list:\n",
    "        try:\n",
    "            datetime.strptime(date, '%Y-%m-%d')\n",
    "            bool_date_list.append(True)\n",
    "        except:\n",
    "            bool_date_list.append(False)\n",
    "    return bool_date_list"
   ]
  },
  {
   "cell_type": "markdown",
   "id": "8e43d98b",
   "metadata": {},
   "source": [
    "## Задание 3\n",
    "Напишите функцию date_range, которая возвращает список дат за период от start_date до end_date. \n",
    "\n",
    "Даты должны вводиться в формате YYYY-MM-DD. \n",
    "\n",
    "В случае неверного формата или при start_date > end_date должен возвращаться пустой список."
   ]
  },
  {
   "cell_type": "code",
   "execution_count": 6,
   "id": "aa8ce546",
   "metadata": {},
   "outputs": [
    {
     "name": "stdout",
     "output_type": "stream",
     "text": [
      "[datetime.datetime(2019, 10, 23, 0, 0), datetime.datetime(2019, 10, 24, 0, 0), datetime.datetime(2019, 10, 25, 0, 0), datetime.datetime(2019, 10, 26, 0, 0), datetime.datetime(2019, 10, 27, 0, 0), datetime.datetime(2019, 10, 28, 0, 0), datetime.datetime(2019, 10, 29, 0, 0), datetime.datetime(2019, 10, 30, 0, 0), datetime.datetime(2019, 10, 31, 0, 0), datetime.datetime(2019, 11, 1, 0, 0), datetime.datetime(2019, 11, 2, 0, 0), datetime.datetime(2019, 11, 3, 0, 0), datetime.datetime(2019, 11, 4, 0, 0), datetime.datetime(2019, 11, 5, 0, 0), datetime.datetime(2019, 11, 6, 0, 0), datetime.datetime(2019, 11, 7, 0, 0), datetime.datetime(2019, 11, 8, 0, 0), datetime.datetime(2019, 11, 9, 0, 0), datetime.datetime(2019, 11, 10, 0, 0), datetime.datetime(2019, 11, 11, 0, 0), datetime.datetime(2019, 11, 12, 0, 0), datetime.datetime(2019, 11, 13, 0, 0), datetime.datetime(2019, 11, 14, 0, 0), datetime.datetime(2019, 11, 15, 0, 0), datetime.datetime(2019, 11, 16, 0, 0), datetime.datetime(2019, 11, 17, 0, 0), datetime.datetime(2019, 11, 18, 0, 0), datetime.datetime(2019, 11, 19, 0, 0), datetime.datetime(2019, 11, 20, 0, 0), datetime.datetime(2019, 11, 21, 0, 0), datetime.datetime(2019, 11, 22, 0, 0), datetime.datetime(2019, 11, 23, 0, 0)]\n"
     ]
    }
   ],
   "source": [
    "def date_range(start_date, end_date):\n",
    "    start_date = datetime.strptime(start_date, '%Y-%m-%d')\n",
    "    end_date = datetime.strptime(end_date, '%Y-%m-%d')\n",
    "    if start_date > end_date:\n",
    "        return []\n",
    "    else:\n",
    "        period_list_date = []\n",
    "        while start_date < end_date:\n",
    "            var_date = start_date + timedelta(days=1)\n",
    "            period_list_date.append(var_date)\n",
    "            start_date += timedelta(days=1)\n",
    "        return period_list_date"
   ]
  },
  {
   "cell_type": "markdown",
   "id": "49794a61",
   "metadata": {},
   "source": [
    "### Задание 4 (необязательное)\n",
    "Ваш коллега прислал код функции:\n",
    "\n",
    "    DEFAULT_USER_COUNT = 3\n",
    "\n",
    "    def delete_and_return_last_user(region, default_list=[‘A100’, ‘A101’, ‘A102’]):\n",
    "\n",
    "    \"\"\"\n",
    "\n",
    "    Удаляет из списка default_list последнего пользователя\n",
    "    и возвращает ID нового последнего пользователя.\n",
    "\n",
    "    \"\"\"\n",
    "\n",
    "    element_to_delete = default_list[-1]\n",
    "\n",
    "    default_list.remove(element_to_delete)\n",
    "\n",
    "    return default_list[DEFAULT_USER_COUNT-2]\n",
    "    \n",
    "\n",
    "    При однократном вызове этой функции всё работает корректно:\n",
    "\n",
    "    delete_and_return_last_user(1)\n",
    "\n",
    "    ‘A101’\n",
    "\n",
    "Однако при повторном вызове получается ошибка IndexError: list index out of range.\n",
    "\n",
    "Задание:\n",
    "\n",
    "    1) - Что значит ошибка list index out of range?\n",
    "\n",
    "    2) - Почему при первом запуске функция работает корректно, а при втором — нет?"
   ]
  },
  {
   "cell_type": "markdown",
   "id": "ed7a2e06",
   "metadata": {},
   "source": [
    "### Ответ:\n",
    "    1) Мы вышли за пределы списка\n",
    "\n",
    "    2) Потому что мы пытаемся вернуть элемент которого не существует."
   ]
  },
  {
   "cell_type": "code",
   "execution_count": null,
   "id": "ad8635d7",
   "metadata": {},
   "outputs": [],
   "source": []
  }
 ],
 "metadata": {
  "kernelspec": {
   "display_name": "Python 3 (ipykernel)",
   "language": "python",
   "name": "python3"
  },
  "language_info": {
   "codemirror_mode": {
    "name": "ipython",
    "version": 3
   },
   "file_extension": ".py",
   "mimetype": "text/x-python",
   "name": "python",
   "nbconvert_exporter": "python",
   "pygments_lexer": "ipython3",
   "version": "3.10.5"
  }
 },
 "nbformat": 4,
 "nbformat_minor": 5
}
