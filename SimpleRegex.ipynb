{
 "cells": [
  {
   "cell_type": "code",
   "execution_count": 33,
   "id": "46505ae5",
   "metadata": {},
   "outputs": [],
   "source": [
    "import re"
   ]
  },
  {
   "cell_type": "markdown",
   "id": "bc7c011d",
   "metadata": {},
   "source": [
    "## Задание 1\n",
    "Напишите функцию, которая принимает на вход строку и проверяет, является ли она валидным транспортным номером (1 буква, 3 цифры, 2 буквы, 2–3 цифры). \n",
    "\n",
    "Обратите внимание, что не все буквы кириллического алфавита используются в транспортных номерах.\n",
    "\n",
    "Если номер валиден, то функция должна возвращать отдельно номер и регион."
   ]
  },
  {
   "cell_type": "code",
   "execution_count": 54,
   "id": "120aa7dd",
   "metadata": {},
   "outputs": [],
   "source": [
    "def checking_validity_number(number):\n",
    "    \"\"\"\n",
    "    принимает на вход строку и проверяет, \n",
    "    является ли она валидным транспортным номером \n",
    "    (1 буква, 3 цифры, 2 буквы, 2–3 цифры)\n",
    "    \"\"\"\n",
    "    \n",
    "    result = re.findall(r'([A-Z]{1}\\d{3}[A-Z]{2})(\\d{2,3})', number)\n",
    "    if result != []:\n",
    "        print(f'Номер {result[0][0]} валиден. Регион: {result[0][1]}')\n",
    "    else:\n",
    "        print(f'Номер {number} - не валиден!')"
   ]
  },
  {
   "cell_type": "markdown",
   "id": "2a244fdb",
   "metadata": {},
   "source": [
    "## Задание 2\n",
    "Напишите функцию, которая будет удалять все последовательные повторы слов из заданной строки при помощи регулярных выражений.\n",
    "\n",
    "Пример работы программы:\n",
    "\n",
    "some_string = ‘Напишите функцию функцию, которая будет будет будет будет удалять все все все все последовательные повторы слов из из из из заданной строки строки при помощи регулярных выражений.’"
   ]
  },
  {
   "cell_type": "code",
   "execution_count": 31,
   "id": "95312ef4",
   "metadata": {},
   "outputs": [
    {
     "data": {
      "text/plain": [
       "'\\nНапишите функцию функцию, которая будет удалять\\nвсе последовательные повторы слов из заданной \\nстроки при помощи регулярных выражений.'"
      ]
     },
     "execution_count": 31,
     "metadata": {},
     "output_type": "execute_result"
    }
   ],
   "source": [
    " some_string = \"\"\"\n",
    "Напишите функцию функцию, которая будет будет будет будет удалять\n",
    "все все все все последовательные повторы слов из из из из заданной \n",
    "строки строки при помощи регулярных выражений.\"\"\"\n",
    "\n",
    "re.sub(r'(\\w+\\s|,)\\1+', r'\\1', some_string, flags=re.IGNORECASE)"
   ]
  },
  {
   "cell_type": "markdown",
   "id": "f6c9231e",
   "metadata": {},
   "source": [
    "## Задание 3\n",
    "Напишите функцию, которая будет возвращать акроним по переданной в неё строке со словами."
   ]
  },
  {
   "cell_type": "code",
   "execution_count": 23,
   "id": "5aa508b8",
   "metadata": {},
   "outputs": [],
   "source": [
    "def get_acronym(words):\n",
    "    return \"\".join(re.findall(r'\\b\\w', words)).upper()"
   ]
  },
  {
   "cell_type": "markdown",
   "id": "b482ec3b",
   "metadata": {},
   "source": [
    "## Задание 4\n",
    "Напишите функцию, которая будет принимать на вход список email-адресов и выводить их распределение по доменным зонам."
   ]
  },
  {
   "cell_type": "code",
   "execution_count": 61,
   "id": "111db524",
   "metadata": {},
   "outputs": [],
   "source": [
    "emails = ['test@gmail.com', 'xyz@test.in', 'test@ya.ru', 'xyz@mail.ru', 'xyz@ya.ru', 'xyz@gmail.com']\n",
    "\n",
    "def number_per_domain(emails):\n",
    "    distribution = {}\n",
    "    for email in emails:\n",
    "        domain = re.findall(r'@\\w+.\\w+', email)[0].replace('@', '')\n",
    "        distribution.setdefault(domain, 0)\n",
    "        distribution[domain] += 1\n",
    "        \n",
    "    for item in distribution.keys():\n",
    "        print(f'Домен: {item}, количество: {distribution[item]}')"
   ]
  },
  {
   "cell_type": "code",
   "execution_count": null,
   "id": "f96474f6",
   "metadata": {},
   "outputs": [],
   "source": []
  }
 ],
 "metadata": {
  "kernelspec": {
   "display_name": "Python 3 (ipykernel)",
   "language": "python",
   "name": "python3"
  },
  "language_info": {
   "codemirror_mode": {
    "name": "ipython",
    "version": 3
   },
   "file_extension": ".py",
   "mimetype": "text/x-python",
   "name": "python",
   "nbconvert_exporter": "python",
   "pygments_lexer": "ipython3",
   "version": "3.10.5"
  }
 },
 "nbformat": 4,
 "nbformat_minor": 5
}
