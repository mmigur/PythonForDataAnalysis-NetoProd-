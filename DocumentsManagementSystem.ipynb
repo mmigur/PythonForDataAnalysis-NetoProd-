{
 "cells": [
  {
   "cell_type": "markdown",
   "id": "9def72bb",
   "metadata": {},
   "source": [
    "Вам нужно помочь секретарю автоматизировать работу. Для этого нужно написать программу, которая будет на основе хранимых данных исполнять пользовательские команды.\n",
    "\n",
    "Исходные данные имеют следующую структуру:\n",
    "\n",
    "1. перечень всех документов\n",
    "documents = [\n",
    "    {'type': 'passport', 'number': '2207 876234', 'name': 'Василий Гупкин'},\n",
    "    {'type': 'invoice', 'number': '11-2', 'name': 'Геннадий Покемонов'},\n",
    "    {'type': 'insurance', 'number': '10006', 'name': 'Аристарх Павлов'}\n",
    "]\n",
    "\n",
    "2. перечень полок, на которых хранятся документы (если документ есть в documents, то он обязательно должен быть и в directories)\n",
    "directories = {\n",
    "    '1': ['2207 876234', '11-2'],\n",
    "    '2': ['10006'],\n",
    "    '3': []\n",
    "}\n",
    "\n",
    "Общие требования к программе:\n",
    " - код должен быть грамотно декомпозирован (каждая функция отвечает за свою конкретную задачу, дублирующийся функционал переиспользуется, а его код не повторяется);\n",
    " - в коде отсутствуют глобальные переменные (за исключением documents и directories);\n",
    " - пользовательский ввод обрабатывается в цикле while до тех пор, пока пользователь явно не завершит программу (вводом команды \"q\")."
   ]
  },
  {
   "cell_type": "code",
   "execution_count": 13,
   "id": "988107d7",
   "metadata": {},
   "outputs": [],
   "source": [
    "documents = [\n",
    "    {'type': 'passport', 'number': '2207 876234', 'name': 'Василий Гупкин'},\n",
    "    {'type': 'invoice', 'number': '11-2', 'name': 'Геннадий Покемонов'},\n",
    "    {'type': 'insurance', 'number': '10006', 'name': 'Аристарх Павлов'}\n",
    "]\n",
    "\n",
    "directories = {\n",
    "    '1': ['2207 876234', '11-2'],\n",
    "    '2': ['10006'],\n",
    "    '3': []\n",
    "}"
   ]
  },
  {
   "cell_type": "markdown",
   "id": "2786e00b",
   "metadata": {},
   "source": [
    "## Задание 1\n",
    "\n",
    "### Пункт 1. Пользователь по команде \"p\" может узнать владельца документа по его номеру"
   ]
  },
  {
   "cell_type": "code",
   "execution_count": 14,
   "id": "4b0a9705",
   "metadata": {},
   "outputs": [],
   "source": [
    "def get_owner_by_number(number_document):\n",
    "    for document in documents:\n",
    "        if number_document == document['number']:\n",
    "            return document['name'] \n",
    "            break\n",
    "    return 'Документ не найден в базе!'"
   ]
  },
  {
   "cell_type": "markdown",
   "id": "c21f5b6d",
   "metadata": {},
   "source": [
    "### Пункт 2. Пользователь по команде «s» может по номеру документа узнать, на какой полке он хранится.\n"
   ]
  },
  {
   "cell_type": "code",
   "execution_count": 15,
   "id": "6f938ca8",
   "metadata": {},
   "outputs": [],
   "source": [
    "def find_shelf_by_number(number_document):\n",
    "    for number in directories:\n",
    "        for item in directories[number]:\n",
    "            if number_document == item:\n",
    "                return number\n",
    "                break\n",
    "    return 'Документ не найден в базе'"
   ]
  },
  {
   "cell_type": "markdown",
   "id": "5f39e5a9",
   "metadata": {},
   "source": [
    "### Пункт 3. Пользователь по команде «l» может увидеть полную информацию по всем документам."
   ]
  },
  {
   "cell_type": "code",
   "execution_count": 16,
   "id": "26a8091d",
   "metadata": {},
   "outputs": [],
   "source": [
    "def get_full_information_all_documents():\n",
    "    for document in documents:\n",
    "        for shelf in directories:\n",
    "            if document['number'] in directories[shelf]:\n",
    "                print(f\"№:{document['number']}, тип:{document['type']}, владелец:{document['name']}, полка хранения:{shelf}\")"
   ]
  },
  {
   "cell_type": "markdown",
   "id": "c456a2d0",
   "metadata": {},
   "source": [
    "### Пункт 4. Пользователь по команде «ads» может добавить новую полку."
   ]
  },
  {
   "cell_type": "code",
   "execution_count": 17,
   "id": "3bb79aab",
   "metadata": {},
   "outputs": [],
   "source": [
    "def add_shelf(shelf_number):\n",
    "    if shelf_number in directories.keys():\n",
    "        print(f'Такая полка существует. Текущий перечень полок: {\", \".join(list(directories.keys()))}')\n",
    "    else:\n",
    "        directories[shelf_number] = []\n",
    "        print(f'Полка добавленна. Текущий перечень полок: {\", \".join(list(directories.keys()))}')"
   ]
  },
  {
   "cell_type": "markdown",
   "id": "60c55274",
   "metadata": {},
   "source": [
    "### Пункт 5. Пользователь по команде «ds» может удалить существующую полку из данных, только если она пустая."
   ]
  },
  {
   "cell_type": "code",
   "execution_count": 18,
   "id": "380983f1",
   "metadata": {},
   "outputs": [],
   "source": [
    "def delete_shelf_if_exist(number_shelf):\n",
    "    if number_shelf in directories.keys() and directories[number_shelf] == []:\n",
    "        directories.pop(number_shelf)\n",
    "        print(f'Полка удалена. Текущий перечень полок: {\", \".join(list(directories.keys()))}')\n",
    "        \n",
    "    elif number_shelf not in directories.keys():\n",
    "        print(f'Такой полки не существует. Текущий перечень полок: {\", \".join(list(directories.keys()))}')\n",
    "    else:\n",
    "        print(f'На полке есть документы, удалите их перед удалением полки. Текущий перечень полок: {\", \".join(list(directories.keys()))}')\n",
    "        "
   ]
  },
  {
   "cell_type": "markdown",
   "id": "15d9a429",
   "metadata": {},
   "source": [
    "## Задание 2\n",
    "### Пункт 1. Пользователь по команде «ad» может добавить новый документ в данные"
   ]
  },
  {
   "cell_type": "code",
   "execution_count": 19,
   "id": "bd1feffe",
   "metadata": {},
   "outputs": [],
   "source": [
    "def add_new_document(document_number, document_type, document_owner, shelf_number):\n",
    "    if shelf_number in directories.keys():\n",
    "        documents.append({'type': document_type, 'number': document_number, 'name': document_owner})\n",
    "        directories[shelf_number].append(document_number)\n",
    "        \n",
    "    elif shelf_number not in directories.keys():\n",
    "        print(f'Такой полки не существует. Добавьте полку коммандой as.')"
   ]
  },
  {
   "cell_type": "markdown",
   "id": "be4345d8",
   "metadata": {},
   "source": [
    "### Пункт 2. Пользователь по команде «d» может удалить документ из данных."
   ]
  },
  {
   "cell_type": "code",
   "execution_count": 138,
   "id": "b2a06ddd",
   "metadata": {},
   "outputs": [],
   "source": [
    "def delete_document(document_number):\n",
    "    for document in documents:\n",
    "        if document['number'] == document_number:\n",
    "            documents.remove(document)\n",
    "            return 'Документ удален'\n",
    "            break\n",
    "    return 'Документ не найден в базе.'"
   ]
  },
  {
   "cell_type": "markdown",
   "id": "7d041069",
   "metadata": {},
   "source": [
    "### Пункт 3. Пользователь по команде «m» может переместить документ с полки на полку. "
   ]
  },
  {
   "cell_type": "code",
   "execution_count": 11,
   "id": "013d5f1f",
   "metadata": {},
   "outputs": [],
   "source": [
    "def move_document_with_shelf_on_shelf(document_number, shelf_number):\n",
    "    if (shelf_number not in directories.keys()):\n",
    "        return f'Полка не найденна. Текущий перечень полок: {\", \".join(list(directories.keys()))}'\n",
    "    else: \n",
    "        for document in documents:\n",
    "            if document_number == document['number']:\n",
    "                for shelf in directories:\n",
    "                    if document_number in directories[shelf]:\n",
    "                        directories[shelf].remove(document_number)\n",
    "                        directories[shelf_number].append(document_number)\n",
    "                        return 'Документ добавлен.'\n",
    "                        break\n",
    "        return 'Такого документа не существует.'"
   ]
  },
  {
   "cell_type": "markdown",
   "id": "4a41e6ef",
   "metadata": {},
   "source": [
    "### Конcольный интерфейс программы."
   ]
  },
  {
   "cell_type": "code",
   "execution_count": 140,
   "id": "e5a55bcc",
   "metadata": {},
   "outputs": [
    {
     "name": "stdout",
     "output_type": "stream",
     "text": [
      "Введите команду: q\n"
     ]
    }
   ],
   "source": [
    "while True:\n",
    "    command = input('Введите команду: ')\n",
    "    \n",
    "    if command == 'q':\n",
    "        break\n",
    "        \n",
    "    elif command == 'p':\n",
    "        number_document = input('Введите номер документа: ')\n",
    "        print(f'Владелец документа: {get_owner_by_number(number_document)}')\n",
    "        \n",
    "    elif command == 's':\n",
    "        number_document = input('Введите номер документа: ')\n",
    "        print(f'Документ хранится на полке: {find_shelf_by_number(number_document)}')\n",
    "        \n",
    "    elif command == 'l':\n",
    "        print(f'Полная информация:')\n",
    "        get_full_information_all_documents()\n",
    "        \n",
    "    elif command == 'ads':\n",
    "        number_shelf = input('Введите номер полки: ')\n",
    "        add_shelf(number_shelf)\n",
    "        \n",
    "    elif command == 'ds':\n",
    "        number_shelf = input('Введите номер полки: ')\n",
    "        delete_shelf_if_exist(number_shelf)\n",
    "    \n",
    "    elif command == 'ad':\n",
    "        document_number = input('Введите номер документа: ')\n",
    "        document_type = input('Введите тип документа: ')\n",
    "        document_owner = input('Введите имя владельца: ')\n",
    "        shelf_number = input('Введите номер полки: ')\n",
    "        \n",
    "        add_new_document(document_number, document_type, document_owner, shelf_number)\n",
    "        print('Документ добавлен.')\n",
    "        \n",
    "        print('Текущий список документов:')\n",
    "        get_full_information_all_documents()\n",
    "\n",
    "    \n",
    "    elif command == 'd':\n",
    "        document_number = input('Введите номер документа: ')\n",
    "        print(delete_document(document_number))\n",
    "        \n",
    "        print('Текущий список документов:')\n",
    "        get_full_information_all_documents()\n",
    "        \n",
    "    elif command == 'm':\n",
    "        document_number = input('Введите номер документа: ')\n",
    "        shelf_number = input('Введите номер полки: ')\n",
    "        print(move_document_with_shelf_on_shelf(document_number, shelf_number))\n",
    "        \n",
    "        print('Текущий список документов:')\n",
    "        get_full_information_all_documents()\n",
    "\n",
    "    else:\n",
    "        print('Такой комманды не существует!')"
   ]
  },
  {
   "cell_type": "code",
   "execution_count": null,
   "id": "50f457da",
   "metadata": {},
   "outputs": [],
   "source": []
  }
 ],
 "metadata": {
  "kernelspec": {
   "display_name": "Python 3 (ipykernel)",
   "language": "python",
   "name": "python3"
  },
  "language_info": {
   "codemirror_mode": {
    "name": "ipython",
    "version": 3
   },
   "file_extension": ".py",
   "mimetype": "text/x-python",
   "name": "python",
   "nbconvert_exporter": "python",
   "pygments_lexer": "ipython3",
   "version": "3.10.5"
  },
  "vscode": {
   "interpreter": {
    "hash": "aee8b7b246df8f9039afb4144a1f6fd8d2ca17a180786b69acc140d282b71a49"
   }
  }
 },
 "nbformat": 4,
 "nbformat_minor": 5
}
