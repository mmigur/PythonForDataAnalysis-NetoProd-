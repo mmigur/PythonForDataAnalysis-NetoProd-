{
 "cells": [
  {
   "cell_type": "markdown",
   "id": "37412c8f",
   "metadata": {},
   "source": [
    "## Задание 1\n",
    "Даны две переменных, в которых хранятся строки произвольной длины: phrase_1 и phrase_2.\n",
    "Напишите код, который проверяет, какая из этих строк длиннее."
   ]
  },
  {
   "cell_type": "code",
   "execution_count": 5,
   "id": "dfd856ac",
   "metadata": {},
   "outputs": [
    {
     "name": "stdout",
     "output_type": "stream",
     "text": [
      "Фраза 1 длиннее фразы 2\n"
     ]
    }
   ],
   "source": [
    "phrase_1 = 'Насколько проще было бы писать программы, если бы не заказчики'\n",
    "phrase_2 = '640Кб должно хватить для любых задач. Билл Гейтс (по легенде)'\n",
    "if len(phrase_1) > len(phrase_2):\n",
    "    print('Фраза 1 длиннее фразы 2')\n",
    "else:\n",
    "    print('Фраза 2 длиннее фразы 1')"
   ]
  },
  {
   "cell_type": "markdown",
   "id": "bd1e01a9",
   "metadata": {},
   "source": [
    "## Задание 2\n",
    "Дана переменная, в которой хранится четырёхзначное число — год. Необходимо написать программу, которая выведет, является этот год високосным или обычным."
   ]
  },
  {
   "cell_type": "code",
   "execution_count": 6,
   "id": "d6b3f69e",
   "metadata": {},
   "outputs": [
    {
     "name": "stdout",
     "output_type": "stream",
     "text": [
      "Високосный год\n"
     ]
    }
   ],
   "source": [
    "year = 2020\n",
    "if year % 4 == 0:\n",
    "    print('Високосный год')\n",
    "else:\n",
    "    print('Обычный год')"
   ]
  },
  {
   "cell_type": "markdown",
   "id": "da4da150",
   "metadata": {},
   "source": [
    "## Задание 3\n",
    "Необходимо написать программу, которая будет запрашивать у пользователя месяц и дату рождения и выводить соответствующий знак зодиака."
   ]
  },
  {
   "cell_type": "code",
   "execution_count": null,
   "id": "09f00efe",
   "metadata": {},
   "outputs": [],
   "source": [
    "day = int(input('Введите день: '))\n",
    "month = input('Введите месяц: ')\n",
    "\n",
    "if (day >= 21 and day <= 31) and month == 'Март':\n",
    "    print('Овен')\n",
    "elif (day >= 1 and day <= 19) and month == 'Апрель':\n",
    "    print('Овен')\n",
    "    \n",
    "elif (day >= 21 and day <= 30) and month == 'Апрель':\n",
    "    print('Телец')\n",
    "elif (day >= 1 and day <= 20) and month == 'Май':\n",
    "    print('Телец')\n",
    "    \n",
    "elif (day >= 21 and day <= 31) and month == 'Май':\n",
    "    print('Близнецы')\n",
    "elif (day >= 1 and day <= 20) and month == 'Июнь':\n",
    "    print('Близнецы')\n",
    "    \n",
    "elif (day >= 21 and day <= 30) and month == 'Июнь':\n",
    "    print('Рак')\n",
    "elif (day >= 1 and day <= 22) and month == 'Июль':\n",
    "    print('Рак')\n",
    "    \n",
    "elif (day >= 23 and day <= 31) and month == 'Июль':\n",
    "    print('Лев')\n",
    "elif (day >= 1 and day <= 22) and month == 'Август':\n",
    "    print('Лев')\n",
    "    \n",
    "elif (day >= 23 and day <= 31) and month == 'Август':\n",
    "    print('Дева')\n",
    "elif (day >= 1 and day <= 22) and month == 'Сентябрь':\n",
    "    print('Дева')\n",
    "    \n",
    "elif (day >= 23 and day <= 30) and month == 'Сентябрь':\n",
    "    print('Весы')\n",
    "elif (day >= 1 and day <= 22) and month == 'Октябрь':\n",
    "    print('Весы')\n",
    "    \n",
    "elif (day >= 23 and day <= 31) and month == 'Октябрь':\n",
    "    print('Скорпион')\n",
    "elif (day >= 1 and day <= 21) and month == 'Ноябрь':\n",
    "    print('Скорпион')\n",
    "    \n",
    "elif (day >= 22 and day <= 30) and month == 'Ноябрь':\n",
    "    print('Стрелец')\n",
    "elif (day >= 1 and day <= 21) and month == 'Декабрь':\n",
    "    print('Стрелец')\n",
    "    \n",
    "elif (day >= 22 and day <= 31) and month == 'Декабрь':\n",
    "    print('Козерог')\n",
    "elif (day >= 1 and day <= 19) and month == 'Январь':\n",
    "    print('Козерог')\n",
    "    \n",
    "elif (day >= 20 and day <= 31) and month == 'Январь':\n",
    "    print('Водолей')\n",
    "elif (day >= 1 and day <= 18) and month == 'Февраль':\n",
    "    print('Водолей')\n",
    "    \n",
    "elif (day >= 19 and day <= 29) and month == 'Февраль':\n",
    "    print('Рыбы')\n",
    "elif (day >= 1 and day <= 20) and month == 'Март':\n",
    "    print('Рыбы')\n",
    "else:\n",
    "    print('Incorrect input!')"
   ]
  },
  {
   "cell_type": "markdown",
   "id": "e9b9f10f",
   "metadata": {},
   "source": [
    "## Задание 4\n",
    "Вам нужно написать программу для подбора упаковок по размерам товара. Размеры — ширина, длина, высота — хранятся в переменных — в сантиметрах."
   ]
  },
  {
   "cell_type": "code",
   "execution_count": 23,
   "id": "0f31a7ae",
   "metadata": {},
   "outputs": [
    {
     "name": "stdout",
     "output_type": "stream",
     "text": [
      "Коробка №2\n"
     ]
    }
   ],
   "source": [
    "width = 15\n",
    "length = 49\n",
    "height = 15\n",
    "\n",
    "if width <= 15 and length <= 15 and height <= 15:\n",
    "    print('Коробка №1')\n",
    "    \n",
    "elif (width > 15 and width < 50) or (length > 15 and length < 50) or (height > 15 and height < 50):\n",
    "    print('Коробка №2')\n",
    "    \n",
    "elif length > 200:\n",
    "    print('Упаковка для лыж')\n",
    "\n",
    "else:\n",
    "    print('Стандартная коробка №3')"
   ]
  },
  {
   "cell_type": "markdown",
   "id": "79fc4a3c",
   "metadata": {},
   "source": [
    "## Задание 5\n",
    "Дана переменная, в которой хранится шестизначное число — номер проездного билета. Напишите программу, которая будет определять, является ли билет счастливым.\n",
    "Билет считается счастливым, если сумма первых трёх цифр совпадает с суммой последних трёх цифр номера."
   ]
  },
  {
   "cell_type": "code",
   "execution_count": null,
   "id": "d1aada0f",
   "metadata": {},
   "outputs": [],
   "source": [
    "number_ticket = 123321\n",
    "part_1 = int(str(abs(number_ticket))[0]) + int(str(abs(number_ticket))[1]) + int(str(abs(number_ticket))[2])\n",
    "part_2 = int(str(abs(number_ticket))[3]) + int(str(abs(number_ticket))[4]) + int(str(abs(number_ticket))[5])\n",
    "if part_1 == part_2:\n",
    "    print('Билет счастливый')\n",
    "    \n",
    "else:\n",
    "    print('Билет обычный')"
   ]
  },
  {
   "cell_type": "markdown",
   "id": "91d5427e",
   "metadata": {},
   "source": [
    "## Задание 6\n",
    "Напишите программу, которая сможет вычислять площади трёх фигур: круг, треугольник и прямоугольник. Тип фигуры запрашиваем через пользовательский ввод, после чего делаем запрос характеристик фигуры:"
   ]
  },
  {
   "cell_type": "code",
   "execution_count": null,
   "id": "d8e79602",
   "metadata": {},
   "outputs": [],
   "source": [
    "type_figure = input('Введите тип фигуры:')\n",
    "if type_figure == 'Треугольник':\n",
    "    a = int(input('Введите длину стороны A:'))\n",
    "    b = int(input('Введите длину стороны B:'))\n",
    "    c = int(input('Введите длину стороны C:'))\n",
    "    print(f'Результат: {a * b * c}')\n",
    "    \n",
    "elif type_figure == 'Круг':\n",
    "    radius = int(input('Введите радиус круга:'))\n",
    "    print(f'Результат: {radius * 2 * 3.14}')\n",
    "\n",
    "elif type_figure == 'Прямоугольник':\n",
    "    a = int(input('Введите длину первой стороны: '))\n",
    "    b = int(input('Введите длину второй стороны: '))\n",
    "    print(f'Результат: {a * b}')\n",
    "\n",
    "else: \n",
    "    print('Ошибка')"
   ]
  }
 ],
 "metadata": {
  "kernelspec": {
   "display_name": "Python 3 (ipykernel)",
   "language": "python",
   "name": "python3"
  },
  "language_info": {
   "codemirror_mode": {
    "name": "ipython",
    "version": 3
   },
   "file_extension": ".py",
   "mimetype": "text/x-python",
   "name": "python",
   "nbconvert_exporter": "python",
   "pygments_lexer": "ipython3",
   "version": "3.10.5"
  }
 },
 "nbformat": 4,
 "nbformat_minor": 5
}
