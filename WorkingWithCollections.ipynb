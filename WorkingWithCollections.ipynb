{
 "cells": [
  {
   "cell_type": "markdown",
   "id": "b3909cf9",
   "metadata": {},
   "source": [
    "## Задание 1\n",
    "\n",
    "Дана переменная, в которой хранится слово из латинских букв. Напишите код, который выводит на экран:\n",
    "среднюю букву, если число букв в слове нечётное;\n",
    "две средних буквы, если число букв чётное."
   ]
  },
  {
   "cell_type": "code",
   "execution_count": 84,
   "id": "ab7cc9e2",
   "metadata": {},
   "outputs": [
    {
     "name": "stdout",
     "output_type": "stream",
     "text": [
      "t\n"
     ]
    }
   ],
   "source": [
    "string = \"test\"\n",
    "string = \"testing\"\n",
    "\n",
    "print(string[(len(string) - 1) // 2: (len(string) + 2) // 2])"
   ]
  },
  {
   "cell_type": "markdown",
   "id": "8e125e50",
   "metadata": {},
   "source": [
    "## Задание 2\n",
    "Напишите программу, которая последовательно запрашивает у пользователя числа по одному зараз и после первого нуля выводит сумму всех ранее введённых чисел."
   ]
  },
  {
   "cell_type": "code",
   "execution_count": 13,
   "id": "33d135f4",
   "metadata": {},
   "outputs": [
    {
     "name": "stdout",
     "output_type": "stream",
     "text": [
      "Введите число 2 \n",
      "Введите число 2\n",
      "Введите число 2\n",
      "Введите число 2\n",
      "Введите число 2\n",
      "Введите число 20\n",
      "Введите число 0\n",
      "30\n"
     ]
    }
   ],
   "source": [
    "number = True\n",
    "sum_ = 0\n",
    "while number != 0:\n",
    "   number = int(input('Введите число '))\n",
    "   sum_ += number\n",
    "   \n",
    "print(sum_)"
   ]
  },
  {
   "cell_type": "markdown",
   "id": "eda9e038",
   "metadata": {},
   "source": [
    "## Задание 3\n",
    "Мы делаем MVP dating-сервиса, и у нас есть список парней и девушек.\n",
    "Выдвигаем гипотезу: лучшие рекомендации мы получим, если просто отсортируем имена по алфавиту и познакомим людей с одинаковыми индексами после сортировки. Но мы не будем никого знакомить, если кто-то может остаться без пары."
   ]
  },
  {
   "cell_type": "code",
   "execution_count": 5,
   "id": "3b4249d3",
   "metadata": {},
   "outputs": [
    {
     "name": "stdout",
     "output_type": "stream",
     "text": [
      "Идеальные пары:\n",
      "Alex и Emma\n",
      "Arthur и Kate\n",
      "John и Kira\n",
      "Peter и Liza\n",
      "Richard и Trisha\n"
     ]
    }
   ],
   "source": [
    "boys = ['Peter', 'Alex', 'John', 'Arthur', 'Richard']\n",
    "girls = ['Kate', 'Liza', 'Kira', 'Emma', 'Trisha']\n",
    "\n",
    "if len(boys) != len(girls):\n",
    "    print('Кто-то может остаться без пары!')\n",
    "else:\n",
    "    boys = sorted(boys)\n",
    "    girls = sorted(girls)\n",
    "    print('Идеальные пары:')\n",
    "    for pair_one, pair_two in list(zip(boys, girls)):\n",
    "        print(f'{pair_one} и {pair_two}')"
   ]
  },
  {
   "cell_type": "markdown",
   "id": "3ec9518b",
   "metadata": {},
   "source": [
    "## Задание 4\n",
    "У нас есть список, содержащий информацию о среднедневной температуре в Фаренгейтах за произвольный период по странам, структура данных в примере. Необходимо написать код, который рассчитает среднюю температуру за период в Цельсиях для каждой страны."
   ]
  },
  {
   "cell_type": "code",
   "execution_count": 144,
   "id": "c1b2b5d4",
   "metadata": {},
   "outputs": [
    {
     "name": "stdout",
     "output_type": "stream",
     "text": [
      "Средняя температура в странах:\n",
      "Thailand - 23.9 C\n",
      "Germany - 13.8 C\n",
      "Russia - 3.7 C\n",
      "Poland - 12.0 C\n"
     ]
    }
   ],
   "source": [
    "countries_temperature = [\n",
    "    ['Thailand', [75.2, 77, 78.8, 73.4, 68, 75.2, 77]],\n",
    "    ['Germany', [57.2, 55.4, 59, 59, 53.6]],\n",
    "    ['Russia', [35.6, 37.4, 39.2, 41, 42.8, 39.2, 35.6]],\n",
    "    ['Poland', [50, 50, 53.6, 57.2, 55.4, 55.4]]\n",
    "]\n",
    "\n",
    "for element in countries_temperature:\n",
    "   avg_temp = sum(element[1]) / len(element[1])\n",
    "   print(f\"Средняя температура в {element[0]} - {round((avg_temp - 32) * 5 / 9, 1)} C\")"
   ]
  },
  {
   "cell_type": "markdown",
   "id": "d2c2e10f",
   "metadata": {},
   "source": [
    "## Задание 5\n",
    "Дан поток логов по количеству просмотренных страниц для каждого пользователя. Вам необходимо написать алгоритм, который считает среднее значение просмотров на пользователя. То есть надо посчитать отношение суммы всех просмотров к количеству уникальных пользователей."
   ]
  },
  {
   "cell_type": "code",
   "execution_count": 6,
   "id": "b9cabfc7",
   "metadata": {},
   "outputs": [
    {
     "name": "stdout",
     "output_type": "stream",
     "text": [
      "Среднее количество просмотров на уникального пользователя: 145.33\n"
     ]
    }
   ],
   "source": [
    "stream = [\n",
    "    '2018-01-01,user1,3',\n",
    "    '2018-01-07,user1,4',\n",
    "    '2018-03-29,user1,1',\n",
    "    '2018-04-04,user1,13',\n",
    "    '2018-01-05,user2,7',\n",
    "    '2018-06-14,user3,4',\n",
    "    '2018-07-02,user3,10',\n",
    "    '2018-03-21,user4,19',\n",
    "    '2018-03-22,user4,4',\n",
    "    '2018-04-22,user4,8',\n",
    "    '2018-05-03,user4,9',\n",
    "    '2018-05-11,user4,11'\n",
    "]\n",
    "\n",
    "stream = [\n",
    "    '2018-01-01,user100,150',\n",
    "    '2018-01-07,user99,205',\n",
    "    '2018-03-29,user1001,81'\n",
    "]\n",
    "users_list = []\n",
    "views = 0\n",
    " \n",
    "for el in stream:\n",
    "    splitted_el = el.split(',')\n",
    "    if splitted_el[1] not in users_list:\n",
    "        users_list.append(splitted_el[1])\n",
    "    views += int(splitted_el[2])\n",
    "print(f'Среднее количество просмотров на уникального пользователя: {round(views / len(users_list), 2)}')"
   ]
  },
  {
   "cell_type": "markdown",
   "id": "c5696eb0",
   "metadata": {},
   "source": [
    "## Задание 6\n",
    "Необходимо у пользователя запрашивать набор чисел разделённых пробелом. В результате в отсортированном порядке должны выводиться числа, которые повторяются во вводе более одного раза."
   ]
  },
  {
   "cell_type": "code",
   "execution_count": 11,
   "id": "e87d7a6e",
   "metadata": {},
   "outputs": [
    {
     "name": "stdout",
     "output_type": "stream",
     "text": [
      "Введите числа: 2 3 3 3 3 3 3 3\n",
      "[3]\n"
     ]
    }
   ],
   "source": [
    "numbers_str = input('Введите числа: ')\n",
    "numbers_list = numbers_str.split(' ')\n",
    "\n",
    "numbers_int_list = []\n",
    "for item in numbers_list:\n",
    "    numbers_int_list.append(int(item))\n",
    "\n",
    "frequent_elements = []\n",
    "for number in numbers_int_list:\n",
    "    if numbers_int_list.count(number) > 1:\n",
    "        frequent_elements.append(number)\n",
    "        \n",
    "print(sorted(set(frequent_elements)))"
   ]
  }
 ],
 "metadata": {
  "kernelspec": {
   "display_name": "Python 3 (ipykernel)",
   "language": "python",
   "name": "python3"
  },
  "language_info": {
   "codemirror_mode": {
    "name": "ipython",
    "version": 3
   },
   "file_extension": ".py",
   "mimetype": "text/x-python",
   "name": "python",
   "nbconvert_exporter": "python",
   "pygments_lexer": "ipython3",
   "version": "3.10.5"
  }
 },
 "nbformat": 4,
 "nbformat_minor": 5
}
