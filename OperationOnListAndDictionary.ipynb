{
 "cells": [
  {
   "cell_type": "markdown",
   "id": "113365ee",
   "metadata": {},
   "source": [
    "## Задание 1\n",
    "Дана переменная, в которой хранится словарь, содержащий геометки для каждого пользователя. Пример структуры данных приведён ниже. Вам необходимо написать программу, которая выведет на экран множество уникальных геометок всех пользователей."
   ]
  },
  {
   "cell_type": "code",
   "execution_count": 2,
   "id": "d9c6d9b6",
   "metadata": {},
   "outputs": [],
   "source": [
    "ids = {\n",
    "    'user1': [213, 213, 213, 15, 213],\n",
    "    'user2': [54, 54, 119, 119, 119],\n",
    "    'user3': [213, 98, 98, 35]\n",
    "}\n",
    "geo_marks = [list(set(marks)) for marks in list(ids.values())]\n",
    "unique_mark = set(sum(geo_marks, []))"
   ]
  },
  {
   "cell_type": "markdown",
   "id": "321c45ff",
   "metadata": {},
   "source": [
    "## Задание 2\n",
    "Дана переменная, в которой хранится список поисковых запросов пользователя. Пример структуры данных приведён ниже. Вам необходимо написать программу, которая выведет на экран распределение количества слов в запросах в требуемом виде."
   ]
  },
  {
   "cell_type": "code",
   "execution_count": 164,
   "id": "5e769c93",
   "metadata": {},
   "outputs": [
    {
     "name": "stdout",
     "output_type": "stream",
     "text": [
      "Поисковых запросов, содержащих 2 слов(а): 42.86%\n",
      "Поисковых запросов, содержащих 3 слов(а): 57.14%\n"
     ]
    }
   ],
   "source": [
    "queries = [\n",
    "    'смотреть сериалы онлайн',\n",
    "    'новости спорта',\n",
    "    'афиша кино',\n",
    "    'курс доллара',\n",
    "    'сериалы этим летом',\n",
    "    'курс по питону',\n",
    "    'сериалы про спорт'\n",
    "]\n",
    "\n",
    "data = [query.split(' ') for query in queries]\n",
    "count_word = [len(query_len) for query_len in data]\n",
    "for count in set(count_word):\n",
    "    print(f'Поисковых запросов, содержащих {count} слов(а): {round((count_word.count(count) / len(count_word)) * 100, 2)}%')"
   ]
  },
  {
   "cell_type": "markdown",
   "id": "933cf4c3",
   "metadata": {},
   "source": [
    "## Задание 3\n",
    "Дана переменная, в которой хранится информация о затратах и доходе рекламных кампаний по различным источникам. Необходимо дополнить исходную структуру показателем ROI, который рассчитаем по формуле: (revenue / cost – 1) × 100."
   ]
  },
  {
   "cell_type": "code",
   "execution_count": 165,
   "id": "4c3753d4",
   "metadata": {},
   "outputs": [
    {
     "data": {
      "text/plain": [
       "{'vk': {'revenue': 103, 'cost': 98, 'ROI': 5.1},\n",
       " 'yandex': {'revenue': 179, 'cost': 153, 'ROI': 16.99},\n",
       " 'facebook': {'revenue': 103, 'cost': 110, 'ROI': -6.36},\n",
       " 'adwords': {'revenue': 35, 'cost': 34, 'ROI': 2.94},\n",
       " 'twitter': {'revenue': 11, 'cost': 24, 'ROI': -54.17}}"
      ]
     },
     "execution_count": 165,
     "metadata": {},
     "output_type": "execute_result"
    }
   ],
   "source": [
    "company = {\n",
    "    'vk': {'revenue': 103, 'cost': 98},\n",
    "    'yandex': {'revenue': 179, 'cost': 153},\n",
    "    'facebook': {'revenue': 103, 'cost': 110},\n",
    "    'adwords': {'revenue': 35, 'cost': 34},\n",
    "    'twitter': {'revenue': 11, 'cost': 24},\n",
    "}\n",
    "\n",
    "for key in company.keys():\n",
    "    company[key]['ROI'] = round((company[key]['revenue'] / company[key]['cost'] - 1) * 100, 2)\n",
    "    \n",
    "company"
   ]
  },
  {
   "cell_type": "markdown",
   "id": "45055434",
   "metadata": {},
   "source": [
    "## Задание 4\n",
    "Дана переменная, в которой хранится статистика рекламных каналов по объёмам продаж. Пример структуры данных приведён ниже. Напишите программу, которая возвращает название канала с максимальным объёмом продаж."
   ]
  },
  {
   "cell_type": "code",
   "execution_count": 166,
   "id": "f148ddd5",
   "metadata": {},
   "outputs": [
    {
     "name": "stdout",
     "output_type": "stream",
     "text": [
      "Максимальный объём продаж на рекламном канале: vk\n"
     ]
    }
   ],
   "source": [
    "stats = {\n",
    "    'facebook': 55, \n",
    "    'yandex': 115, \n",
    "    'vk': 120, \n",
    "    'google': 99, \n",
    "    'email': 42, \n",
    "    'ok': 98\n",
    "}\n",
    "\n",
    "for key in stats.keys():\n",
    "    if stats[key] == max(stats.values()):\n",
    "        print(f'Максимальный объём продаж на рекламном канале: {key}')"
   ]
  },
  {
   "cell_type": "markdown",
   "id": "7829e004",
   "metadata": {},
   "source": [
    "## Задание 5 (необязательно)\n",
    "Дан список произвольной длины. Необходимо написать код, который на основе исходного списка составит словарь такого уровня вложенности, какова длина исходного списка."
   ]
  },
  {
   "cell_type": "code",
   "execution_count": 179,
   "id": "f38c0223",
   "metadata": {},
   "outputs": [
    {
     "data": {
      "text/plain": [
       "{'2018-01-01': {'yandex': {'cpc': {100: {}}}}}"
      ]
     },
     "execution_count": 179,
     "metadata": {},
     "output_type": "execute_result"
    }
   ],
   "source": [
    "my_list = ['2018-01-01', 'yandex', 'cpc', 100]\n",
    "\n",
    "final_dict = {}\n",
    "temp_dict = final_dict\n",
    "for item in my_list:\n",
    "    temp_dict[item] = {}\n",
    "    temp_dict = temp_dict[item]\n",
    "\n",
    "final_dict"
   ]
  },
  {
   "cell_type": "markdown",
   "id": "28bc5d30",
   "metadata": {},
   "source": [
    "## Задание 6 (необязательно)\n",
    "Дана книга рецептов с информацией о том, сколько ингредиентов нужно для приготовления блюда в расчёте на одну порцию. Пример данных представлен ниже.\n",
    "Напишите программу, которая будет запрашивать у пользователя количество порций для приготовления этих блюд и отображать информацию о суммарном количестве требуемых ингредиентов в указанном виде."
   ]
  },
  {
   "cell_type": "code",
   "execution_count": 234,
   "id": "c818faae",
   "metadata": {},
   "outputs": [
    {
     "data": {
      "text/plain": [
       "[('сыр', 150, 'гр'),\n",
       " ('томаты', 6, 'шт'),\n",
       " ('огурцы', 60, 'гр'),\n",
       " ('маслины', 30, 'гр'),\n",
       " ('оливковое масло', 60, 'мл'),\n",
       " ('салат', 30, 'гр'),\n",
       " ('перец', 60, 'гр'),\n",
       " ('сыр', 60, 'гр'),\n",
       " ('колбаса', 90, 'гр'),\n",
       " ('бекон', 90, 'гр'),\n",
       " ('оливки', 30, 'гр'),\n",
       " ('томаты', 60, 'гр'),\n",
       " ('тесто', 300, 'гр'),\n",
       " ('лимон', 3, 'шт'),\n",
       " ('вода', 600, 'мл'),\n",
       " ('сахар', 30, 'гр'),\n",
       " ('лайм', 60, 'гр')]"
      ]
     },
     "execution_count": 234,
     "metadata": {},
     "output_type": "execute_result"
    }
   ],
   "source": [
    "#enter_portion = int(input('Введите количество порций: '))\n",
    "enter_portion = 3\n",
    "\n",
    "cook_book = {\n",
    "    'салат': [\n",
    "        {'ingridient_name': 'сыр', 'quantity': 50, 'measure': 'гр'},\n",
    "        {'ingridient_name': 'томаты', 'quantity': 2, 'measure': 'шт'},\n",
    "        {'ingridient_name': 'огурцы', 'quantity': 20, 'measure': 'гр'},\n",
    "        {'ingridient_name': 'маслины', 'quantity': 10, 'measure': 'гр'},\n",
    "        {'ingridient_name': 'оливковое масло', 'quantity': 20, 'measure': 'мл'},\n",
    "        {'ingridient_name': 'салат', 'quantity': 10, 'measure': 'гр'},\n",
    "        {'ingridient_name': 'перец', 'quantity': 20, 'measure': 'гр'}\n",
    "    ],\n",
    "    'пицца': [\n",
    "        {'ingridient_name': 'сыр', 'quantity': 20, 'measure': 'гр'},\n",
    "        {'ingridient_name': 'колбаса', 'quantity': 30, 'measure': 'гр'},\n",
    "        {'ingridient_name': 'бекон', 'quantity': 30, 'measure': 'гр'},\n",
    "        {'ingridient_name': 'оливки', 'quantity': 10, 'measure': 'гр'},\n",
    "        {'ingridient_name': 'томаты', 'quantity': 20, 'measure': 'гр'},\n",
    "        {'ingridient_name': 'тесто', 'quantity': 100, 'measure': 'гр'},\n",
    "    ],\n",
    "    'лимонад': [\n",
    "        {'ingridient_name': 'лимон', 'quantity': 1, 'measure': 'шт'},\n",
    "        {'ingridient_name': 'вода', 'quantity': 200, 'measure': 'мл'},\n",
    "        {'ingridient_name': 'сахар', 'quantity': 10, 'measure': 'гр'},\n",
    "        {'ingridient_name': 'лайм', 'quantity': 20, 'measure': 'гр'},\n",
    "    ]\n",
    "}\n",
    "final_list = []\n",
    "\n",
    "for key in cook_book.keys():\n",
    "    for dish in cook_book[key]:\n",
    "        final_list.append((dish['ingridient_name'], dish['quantity'] * 3, dish['measure']))\n",
    "        \n",
    "final_list"
   ]
  },
  {
   "cell_type": "code",
   "execution_count": null,
   "id": "058ce055",
   "metadata": {},
   "outputs": [],
   "source": []
  }
 ],
 "metadata": {
  "kernelspec": {
   "display_name": "Python 3 (ipykernel)",
   "language": "python",
   "name": "python3"
  },
  "language_info": {
   "codemirror_mode": {
    "name": "ipython",
    "version": 3
   },
   "file_extension": ".py",
   "mimetype": "text/x-python",
   "name": "python",
   "nbconvert_exporter": "python",
   "pygments_lexer": "ipython3",
   "version": "3.10.5"
  }
 },
 "nbformat": 4,
 "nbformat_minor": 5
}
